{
  "cells": [
    {
      "cell_type": "code",
      "execution_count": 1,
      "metadata": {
        "id": "BmyCx831iT1I"
      },
      "outputs": [],
      "source": [
        "import numpy as np\n",
        "import pandas as pd\n",
        "import matplotlib.pyplot as plt\n",
        "import seaborn as sns\n",
        "\n",
        "from sklearn.preprocessing import StandardScaler, PowerTransformer, MinMaxScaler,  LabelEncoder\n",
        "from sklearn.model_selection import train_test_split, cross_val_predict\n",
        "from sklearn.pipeline import make_pipeline\n",
        "\n",
        "from sklearn.model_selection import cross_val_score\n",
        "from sklearn.model_selection import cross_validate\n",
        "\n",
        "from sklearn.linear_model import  LogisticRegression\n",
        "from sklearn.ensemble import RandomForestClassifier\n",
        "from sklearn.svm import SVC\n",
        "from sklearn.tree import DecisionTreeClassifier\n",
        "from sklearn.naive_bayes import GaussianNB\n",
        "from sklearn.neighbors import KNeighborsClassifier\n",
        "\n",
        "\n",
        "from sklearn.metrics import make_scorer, confusion_matrix, ConfusionMatrixDisplay, accuracy_score, f1_score, classification_report, mean_squared_error, cohen_kappa_score, roc_auc_score, mean_squared_error, mean_absolute_error"
      ]
    },
    {
      "cell_type": "code",
      "execution_count": 2,
      "metadata": {
        "id": "3FmqTJx4Onc9",
        "colab": {
          "base_uri": "https://localhost:8080/",
          "height": 287
        },
        "outputId": "377a06ce-e48b-4507-8802-67b981f6ffda"
      },
      "outputs": [
        {
          "output_type": "error",
          "ename": "FileNotFoundError",
          "evalue": "[Errno 2] No such file or directory: '/content/Soil_Fertility_Data.xlsx'",
          "traceback": [
            "\u001b[0;31m---------------------------------------------------------------------------\u001b[0m",
            "\u001b[0;31mFileNotFoundError\u001b[0m                         Traceback (most recent call last)",
            "\u001b[0;32m<ipython-input-2-331fb6e423ba>\u001b[0m in \u001b[0;36m<cell line: 1>\u001b[0;34m()\u001b[0m\n\u001b[0;32m----> 1\u001b[0;31m \u001b[0mdf\u001b[0m \u001b[0;34m=\u001b[0m \u001b[0mpd\u001b[0m\u001b[0;34m.\u001b[0m\u001b[0mread_excel\u001b[0m\u001b[0;34m(\u001b[0m\u001b[0;34m'/content/Soil_Fertility_Data.xlsx'\u001b[0m\u001b[0;34m)\u001b[0m\u001b[0;34m\u001b[0m\u001b[0;34m\u001b[0m\u001b[0m\n\u001b[0m",
            "\u001b[0;32m/usr/local/lib/python3.10/dist-packages/pandas/io/excel/_base.py\u001b[0m in \u001b[0;36mread_excel\u001b[0;34m(io, sheet_name, header, names, index_col, usecols, dtype, engine, converters, true_values, false_values, skiprows, nrows, na_values, keep_default_na, na_filter, verbose, parse_dates, date_parser, date_format, thousands, decimal, comment, skipfooter, storage_options, dtype_backend, engine_kwargs)\u001b[0m\n\u001b[1;32m    502\u001b[0m     \u001b[0;32mif\u001b[0m \u001b[0;32mnot\u001b[0m \u001b[0misinstance\u001b[0m\u001b[0;34m(\u001b[0m\u001b[0mio\u001b[0m\u001b[0;34m,\u001b[0m \u001b[0mExcelFile\u001b[0m\u001b[0;34m)\u001b[0m\u001b[0;34m:\u001b[0m\u001b[0;34m\u001b[0m\u001b[0;34m\u001b[0m\u001b[0m\n\u001b[1;32m    503\u001b[0m         \u001b[0mshould_close\u001b[0m \u001b[0;34m=\u001b[0m \u001b[0;32mTrue\u001b[0m\u001b[0;34m\u001b[0m\u001b[0;34m\u001b[0m\u001b[0m\n\u001b[0;32m--> 504\u001b[0;31m         io = ExcelFile(\n\u001b[0m\u001b[1;32m    505\u001b[0m             \u001b[0mio\u001b[0m\u001b[0;34m,\u001b[0m\u001b[0;34m\u001b[0m\u001b[0;34m\u001b[0m\u001b[0m\n\u001b[1;32m    506\u001b[0m             \u001b[0mstorage_options\u001b[0m\u001b[0;34m=\u001b[0m\u001b[0mstorage_options\u001b[0m\u001b[0;34m,\u001b[0m\u001b[0;34m\u001b[0m\u001b[0;34m\u001b[0m\u001b[0m\n",
            "\u001b[0;32m/usr/local/lib/python3.10/dist-packages/pandas/io/excel/_base.py\u001b[0m in \u001b[0;36m__init__\u001b[0;34m(self, path_or_buffer, engine, storage_options, engine_kwargs)\u001b[0m\n\u001b[1;32m   1561\u001b[0m                 \u001b[0mext\u001b[0m \u001b[0;34m=\u001b[0m \u001b[0;34m\"xls\"\u001b[0m\u001b[0;34m\u001b[0m\u001b[0;34m\u001b[0m\u001b[0m\n\u001b[1;32m   1562\u001b[0m             \u001b[0;32melse\u001b[0m\u001b[0;34m:\u001b[0m\u001b[0;34m\u001b[0m\u001b[0;34m\u001b[0m\u001b[0m\n\u001b[0;32m-> 1563\u001b[0;31m                 ext = inspect_excel_format(\n\u001b[0m\u001b[1;32m   1564\u001b[0m                     \u001b[0mcontent_or_path\u001b[0m\u001b[0;34m=\u001b[0m\u001b[0mpath_or_buffer\u001b[0m\u001b[0;34m,\u001b[0m \u001b[0mstorage_options\u001b[0m\u001b[0;34m=\u001b[0m\u001b[0mstorage_options\u001b[0m\u001b[0;34m\u001b[0m\u001b[0;34m\u001b[0m\u001b[0m\n\u001b[1;32m   1565\u001b[0m                 )\n",
            "\u001b[0;32m/usr/local/lib/python3.10/dist-packages/pandas/io/excel/_base.py\u001b[0m in \u001b[0;36minspect_excel_format\u001b[0;34m(content_or_path, storage_options)\u001b[0m\n\u001b[1;32m   1417\u001b[0m         \u001b[0mcontent_or_path\u001b[0m \u001b[0;34m=\u001b[0m \u001b[0mBytesIO\u001b[0m\u001b[0;34m(\u001b[0m\u001b[0mcontent_or_path\u001b[0m\u001b[0;34m)\u001b[0m\u001b[0;34m\u001b[0m\u001b[0;34m\u001b[0m\u001b[0m\n\u001b[1;32m   1418\u001b[0m \u001b[0;34m\u001b[0m\u001b[0m\n\u001b[0;32m-> 1419\u001b[0;31m     with get_handle(\n\u001b[0m\u001b[1;32m   1420\u001b[0m         \u001b[0mcontent_or_path\u001b[0m\u001b[0;34m,\u001b[0m \u001b[0;34m\"rb\"\u001b[0m\u001b[0;34m,\u001b[0m \u001b[0mstorage_options\u001b[0m\u001b[0;34m=\u001b[0m\u001b[0mstorage_options\u001b[0m\u001b[0;34m,\u001b[0m \u001b[0mis_text\u001b[0m\u001b[0;34m=\u001b[0m\u001b[0;32mFalse\u001b[0m\u001b[0;34m\u001b[0m\u001b[0;34m\u001b[0m\u001b[0m\n\u001b[1;32m   1421\u001b[0m     ) as handle:\n",
            "\u001b[0;32m/usr/local/lib/python3.10/dist-packages/pandas/io/common.py\u001b[0m in \u001b[0;36mget_handle\u001b[0;34m(path_or_buf, mode, encoding, compression, memory_map, is_text, errors, storage_options)\u001b[0m\n\u001b[1;32m    870\u001b[0m         \u001b[0;32melse\u001b[0m\u001b[0;34m:\u001b[0m\u001b[0;34m\u001b[0m\u001b[0;34m\u001b[0m\u001b[0m\n\u001b[1;32m    871\u001b[0m             \u001b[0;31m# Binary mode\u001b[0m\u001b[0;34m\u001b[0m\u001b[0;34m\u001b[0m\u001b[0m\n\u001b[0;32m--> 872\u001b[0;31m             \u001b[0mhandle\u001b[0m \u001b[0;34m=\u001b[0m \u001b[0mopen\u001b[0m\u001b[0;34m(\u001b[0m\u001b[0mhandle\u001b[0m\u001b[0;34m,\u001b[0m \u001b[0mioargs\u001b[0m\u001b[0;34m.\u001b[0m\u001b[0mmode\u001b[0m\u001b[0;34m)\u001b[0m\u001b[0;34m\u001b[0m\u001b[0;34m\u001b[0m\u001b[0m\n\u001b[0m\u001b[1;32m    873\u001b[0m         \u001b[0mhandles\u001b[0m\u001b[0;34m.\u001b[0m\u001b[0mappend\u001b[0m\u001b[0;34m(\u001b[0m\u001b[0mhandle\u001b[0m\u001b[0;34m)\u001b[0m\u001b[0;34m\u001b[0m\u001b[0;34m\u001b[0m\u001b[0m\n\u001b[1;32m    874\u001b[0m \u001b[0;34m\u001b[0m\u001b[0m\n",
            "\u001b[0;31mFileNotFoundError\u001b[0m: [Errno 2] No such file or directory: '/content/Soil_Fertility_Data.xlsx'"
          ]
        }
      ],
      "source": [
        "df = pd.read_excel('/content/Soil_Fertility_Data.xlsx')"
      ]
    },
    {
      "cell_type": "code",
      "execution_count": null,
      "metadata": {
        "id": "ciJqxmI9cnB_"
      },
      "outputs": [],
      "source": [
        "# df = pd.read_csv('/content/Soil_Fertility_Data.csv')"
      ]
    },
    {
      "cell_type": "code",
      "execution_count": null,
      "metadata": {
        "id": "tipOn8YfO7f6"
      },
      "outputs": [],
      "source": [
        "df.head()"
      ]
    },
    {
      "cell_type": "code",
      "execution_count": null,
      "metadata": {
        "id": "t_pI_FV-O9j-"
      },
      "outputs": [],
      "source": [
        "df.info()"
      ]
    },
    {
      "cell_type": "code",
      "execution_count": null,
      "metadata": {
        "id": "bpXhTN58SNKJ"
      },
      "outputs": [],
      "source": [
        "df.isnull().sum()"
      ]
    },
    {
      "cell_type": "code",
      "execution_count": null,
      "metadata": {
        "id": "wV8Nm18jjxXp"
      },
      "outputs": [],
      "source": [
        "# Calculate the mean of the 'N (kg/ha)' column\n",
        "mean_value = df['N (kg/ha)'].mean()\n",
        "\n",
        "# Fill missing values in the 'N (kg/ha)' column with the mean\n",
        "df['N (kg/ha)'] = df['N (kg/ha)'].fillna(mean_value)"
      ]
    },
    {
      "cell_type": "code",
      "execution_count": null,
      "metadata": {
        "id": "9sfa8pXHkJKM"
      },
      "outputs": [],
      "source": [
        "# Calculate the mean of the 'Zn (ppm)' column\n",
        "mean_value = df['Zn (ppm)'].mean()\n",
        "\n",
        "# Fill missing values in the 'Zn (ppm)' column with the mean\n",
        "df['Zn (ppm)'] = df['Zn (ppm)'].fillna(mean_value)"
      ]
    },
    {
      "cell_type": "code",
      "execution_count": null,
      "metadata": {
        "id": "y-wMdD47kX83"
      },
      "outputs": [],
      "source": [
        "# Calculate the mean of the 'Fe (ppm)' column\n",
        "mean_value = df['Fe (ppm)'].mean()\n",
        "\n",
        "# Fill missing values in the 'Fe (ppm)' column with the mean\n",
        "df['Fe (ppm)'] = df['Fe (ppm)'].fillna(mean_value)"
      ]
    },
    {
      "cell_type": "code",
      "execution_count": null,
      "metadata": {
        "id": "I14_e6v6k0F6"
      },
      "outputs": [],
      "source": [
        "# Calculate the mean of the 'Cu (ppm)' column\n",
        "mean_value = df['Cu (ppm)'].mean()\n",
        "\n",
        "# Fill missing values in the 'Cu (ppm)' column with the mean\n",
        "df['Cu (ppm)'] = df['Cu (ppm)'].fillna(mean_value)"
      ]
    },
    {
      "cell_type": "code",
      "execution_count": null,
      "metadata": {
        "id": "1-p0NHZXk79M"
      },
      "outputs": [],
      "source": [
        "# Calculate the mean of the 'Mn (ppm)' column\n",
        "mean_value = df['Mn (ppm)'].mean()\n",
        "\n",
        "# Fill missing values in the 'Mn (ppm)' column with the mean\n",
        "df['Mn (ppm)'] = df['Mn (ppm)'].fillna(mean_value)"
      ]
    },
    {
      "cell_type": "code",
      "execution_count": null,
      "metadata": {
        "id": "ObRBGANHkAUq"
      },
      "outputs": [],
      "source": [
        "df.isnull().sum()"
      ]
    },
    {
      "cell_type": "code",
      "execution_count": null,
      "metadata": {
        "id": "Qo8iyFuDkWNp"
      },
      "outputs": [],
      "source": [
        "df.drop(['Location','CaCO3 (%)', 'CEC (m.e./100 g soil)'], axis=1, inplace=True)"
      ]
    },
    {
      "cell_type": "code",
      "execution_count": null,
      "metadata": {
        "id": "ABJQr4UTUONo"
      },
      "outputs": [],
      "source": [
        "df.describe()"
      ]
    },
    {
      "cell_type": "code",
      "execution_count": null,
      "metadata": {
        "id": "8pNSUgQ4kq51"
      },
      "outputs": [],
      "source": [
        "# Initialize LabelEncoder\n",
        "label_encoder = LabelEncoder()\n",
        "\n",
        "# Fit and transform the 'fruit' column\n",
        "df['Soil Fertility'] = label_encoder.fit_transform(df['Soil Fertility'])"
      ]
    },
    {
      "cell_type": "code",
      "execution_count": null,
      "metadata": {
        "id": "aaPafLoQk6XX"
      },
      "outputs": [],
      "source": [
        "df.sample(10)"
      ]
    },
    {
      "cell_type": "code",
      "execution_count": null,
      "metadata": {
        "id": "JL0cxBq9QQl2"
      },
      "outputs": [],
      "source": [
        "df.columns"
      ]
    },
    {
      "cell_type": "code",
      "execution_count": null,
      "metadata": {
        "id": "lfqA4gg9TEbC"
      },
      "outputs": [],
      "source": [
        "# Select the columns you want to include in the heatmap\n",
        "columns_for_heatmap = ['pH', 'EC', 'OC (%)', 'OM (%)', 'N (kg/ha)',\n",
        "                       'P (P2O5 kg.ha)', 'K (K2O kg/ha)', 'Zn (ppm)',\n",
        "                       'Fe (ppm)', 'Cu (ppm)', 'Mn (ppm)','Soil Fertility']"
      ]
    },
    {
      "cell_type": "code",
      "execution_count": null,
      "metadata": {
        "id": "grk3uRTOQCIX"
      },
      "outputs": [],
      "source": [
        "# Calculate the correlation matrix\n",
        "plt.figure(figsize = (13,11))\n",
        "sns.heatmap(df[columns_for_heatmap].corr() , center = 0, annot = True)\n",
        "plt.show()\n"
      ]
    },
    {
      "cell_type": "code",
      "execution_count": null,
      "metadata": {
        "id": "ZkfCr2eOHwV5"
      },
      "outputs": [],
      "source": [
        "# Define the features you want to scale/transform\n",
        "features = ['pH', 'EC', 'OC (%)', 'OM (%)', 'N (kg/ha)',\n",
        "                       'P (P2O5 kg.ha)', 'K (K2O kg/ha)', 'Zn (ppm)',\n",
        "                       'Fe (ppm)', 'Cu (ppm)', 'Mn (ppm)','Soil Fertility']\n",
        "\n",
        "# Separate the features for scaling\n",
        "dist = df[features]\n",
        "\n",
        "# Initialize scalers and transformer\n",
        "min_max_scaler = MinMaxScaler()\n",
        "standard_scaler = StandardScaler()\n",
        "power_transformer = PowerTransformer()\n",
        "\n",
        "# Apply MinMaxScaler\n",
        "dist_min_max = min_max_scaler.fit_transform(dist)\n",
        "df_min_max = pd.DataFrame(dist_min_max, columns=features)\n",
        "\n",
        "# Apply StandardScaler\n",
        "dist_standard = standard_scaler.fit_transform(dist)\n",
        "df_standard = pd.DataFrame(dist_standard, columns=features)\n",
        "\n",
        "# Apply PowerTransformer\n",
        "dist_power = power_transformer.fit_transform(dist)\n",
        "df_power = pd.DataFrame(dist_power, columns=features)\n",
        "\n",
        "# Create subplots: Each feature will have a set of 4 histograms (Original, MinMax, Standard, Power)\n",
        "num_features = len(features)\n",
        "fig, axes = plt.subplots(nrows=num_features, ncols=4, figsize=(20, 4 * num_features))\n",
        "\n",
        "# Flatten the axes array for easy iteration\n",
        "axes = axes.flatten()\n",
        "\n",
        "# Plot histograms for each feature\n",
        "for i, col in enumerate(features):\n",
        "    # Original data\n",
        "    sns.histplot(df[col], ax=axes[i * 4], kde=True)\n",
        "    axes[i * 4].set_title(f'Original: {col}')\n",
        "    axes[i * 4].set_xlabel('')\n",
        "    axes[i * 4].set_ylabel('')\n",
        "\n",
        "    # MinMax Scaled data\n",
        "    sns.histplot(df_min_max[col], ax=axes[i * 4 + 1], kde=True)\n",
        "    axes[i * 4 + 1].set_title(f'MinMax Scaled: {col}')\n",
        "    axes[i * 4 + 1].set_xlabel('')\n",
        "    axes[i * 4 + 1].set_ylabel('')\n",
        "\n",
        "    # Standard Scaled data\n",
        "    sns.histplot(df_standard[col], ax=axes[i * 4 + 2], kde=True)\n",
        "    axes[i * 4 + 2].set_title(f'Standard Scaled: {col}')\n",
        "    axes[i * 4 + 2].set_xlabel('')\n",
        "    axes[i * 4 + 2].set_ylabel('')\n",
        "\n",
        "    # Power Transformed data\n",
        "    sns.histplot(df_power[col], ax=axes[i * 4 + 3], kde=True)\n",
        "    axes[i * 4 + 3].set_title(f'Power Transformed: {col}')\n",
        "    axes[i * 4 + 3].set_xlabel('')\n",
        "    axes[i * 4 + 3].set_ylabel('')\n",
        "\n",
        "# Adjust layout to prevent overlap\n",
        "plt.tight_layout()\n",
        "plt.show()\n"
      ]
    },
    {
      "cell_type": "code",
      "execution_count": null,
      "metadata": {
        "id": "lmvgJHo3XQXj"
      },
      "outputs": [],
      "source": [
        "sns.pairplot(df_power, hue='Soil Fertility', palette='deep')"
      ]
    },
    {
      "cell_type": "code",
      "execution_count": null,
      "metadata": {
        "id": "IB5H4lF5vqzp"
      },
      "outputs": [],
      "source": [
        "X = df.drop(columns=['Soil Fertility'])\n",
        "y = df.iloc[:,-1]"
      ]
    },
    {
      "cell_type": "code",
      "execution_count": null,
      "metadata": {
        "id": "ZradWesMvl1K"
      },
      "outputs": [],
      "source": [
        "X_train, X_test, y_train, y_test = train_test_split(X,y,test_size=0.2,random_state=42)"
      ]
    },
    {
      "cell_type": "code",
      "execution_count": null,
      "metadata": {
        "id": "5sFnfV67m13-"
      },
      "outputs": [],
      "source": [
        "# Initialize PowerTransformer\n",
        "pt = PowerTransformer()\n",
        "\n",
        "# Fit and transform the training data\n",
        "X_train_pt = pt.fit_transform(X_train)\n",
        "\n",
        "# Transform the test data\n",
        "X_test_pt = pt.transform(X_test)"
      ]
    },
    {
      "cell_type": "code",
      "execution_count": null,
      "metadata": {
        "id": "l9oRpIUlnHsY"
      },
      "outputs": [],
      "source": [
        "df_train_pt = pd.DataFrame(X_train_pt)"
      ]
    },
    {
      "cell_type": "code",
      "execution_count": null,
      "metadata": {
        "id": "NbL908HoCv1r"
      },
      "outputs": [],
      "source": [
        "# Custom scorer for specificity\n",
        "def specificity_score(y_true, y_pred):\n",
        "    cm = confusion_matrix(y_true, y_pred)\n",
        "    tn = cm[0, 0]\n",
        "    fp = cm[0, 1]\n",
        "    specificity = tn / (tn + fp)\n",
        "    return specificity\n",
        "\n",
        "\n",
        "# Define the scoring metrics\n",
        "scoring = {\n",
        "    'accuracy': 'accuracy',\n",
        "    'precision': 'precision',\n",
        "    'recall': 'recall',  # Sensitivity\n",
        "    'specificity': make_scorer(specificity_score),  # Specificity\n",
        "    'f1': 'f1',\n",
        "    'roc_auc': 'roc_auc',\n",
        "    'kappa': make_scorer(cohen_kappa_score)\n",
        "}"
      ]
    },
    {
      "cell_type": "code",
      "execution_count": null,
      "metadata": {
        "id": "snEGWzxg-iGC"
      },
      "outputs": [],
      "source": [
        "# Initialize the RandomForestClassifier with OOB score enabled\n",
        "rf_classifier = RandomForestClassifier(max_samples=0.75, random_state=42, oob_score=True)\n",
        "\n",
        "# Perform cross-validation\n",
        "cv_results = cross_validate(rf_classifier, X_train_pt, y_train, cv=10, scoring=scoring)\n",
        "\n",
        "# Calculate mean and standard deviation for each metric\n",
        "rf_mean_accuracy = np.mean(cv_results['test_accuracy'])\n",
        "rf_mean_precision = np.mean(cv_results['test_precision'])\n",
        "rf_mean_recall = np.mean(cv_results['test_recall'])  # Sensitivity\n",
        "rf_mean_specificity = np.mean(cv_results['test_specificity'])\n",
        "rf_mean_f1 = np.mean(cv_results['test_f1'])\n",
        "rf_mean_roc_auc = np.mean(cv_results['test_roc_auc'])\n",
        "rf_mean_kappa = np.mean(cv_results['test_kappa'])\n",
        "\n",
        "# Perform predictions using cross-validation\n",
        "y_pred_prob = cross_val_predict(rf_classifier, X_train_pt, y_train, cv=10, method='predict_proba')\n",
        "\n",
        "# Calculate RMSE\n",
        "rf_rmse = np.sqrt(mean_squared_error(y_train, y_pred_prob[:, 1]))\n",
        "\n",
        "# Calculate MAE\n",
        "rf_mae = mean_absolute_error(y_train, y_pred_prob[:, 1])\n",
        "\n",
        "# Print the results\n",
        "print(\"Mean Accuracy:        \", rf_mean_accuracy)\n",
        "print(\"Mean Precision:       \", rf_mean_precision)\n",
        "print(\"Mean Recall:          \", rf_mean_recall)  # Sensitivity\n",
        "print(\"Mean Specificity:     \", rf_mean_specificity)\n",
        "print(\"Mean F1 Score:        \", rf_mean_f1)\n",
        "print(\"Mean ROC AUC:         \", rf_mean_roc_auc)\n",
        "print(\"Mean Kappa:           \", rf_mean_kappa)\n",
        "print(\"Root Mean Squared Error (RMSE):\", rf_rmse)\n",
        "print(\"Mean Absolute Error (MAE):     \", rf_mae)"
      ]
    },
    {
      "cell_type": "code",
      "execution_count": null,
      "metadata": {
        "id": "iV0WaeoeAVsP"
      },
      "outputs": [],
      "source": [
        "# Initialize the DecisionTreeClassifier\n",
        "dt_classifier = DecisionTreeClassifier(random_state=42)\n",
        "\n",
        "# Perform cross-validation\n",
        "cv_results_dt = cross_validate(dt_classifier, X_train_pt, y_train, cv=10, scoring=scoring)\n",
        "\n",
        "# Calculate mean and standard deviation for each metric\n",
        "dt_mean_accuracy = np.mean(cv_results_dt['test_accuracy'])\n",
        "dt_mean_precision = np.mean(cv_results_dt['test_precision'])\n",
        "dt_mean_recall = np.mean(cv_results_dt['test_recall'])  # Sensitivity\n",
        "dt_mean_specificity = np.mean(cv_results_dt['test_specificity'])\n",
        "dt_mean_f1 = np.mean(cv_results_dt['test_f1'])\n",
        "dt_mean_roc_auc = np.mean(cv_results_dt['test_roc_auc'])\n",
        "dt_mean_kappa = np.mean(cv_results_dt['test_kappa'])\n",
        "\n",
        "# Perform predictions using cross-validation\n",
        "y_pred_prob_dt = cross_val_predict(dt_classifier, X_train_pt, y_train, cv=10, method='predict_proba')\n",
        "\n",
        "# Calculate RMSE\n",
        "dt_rmse = np.sqrt(mean_squared_error(y_train, y_pred_prob_dt[:, 1]))\n",
        "\n",
        "# Calculate MAE\n",
        "dt_mae = mean_absolute_error(y_train, y_pred_prob_dt[:, 1])\n",
        "\n",
        "# Print the results\n",
        "print(\"Decision Tree Classifier Results:\")\n",
        "print(\"Mean Accuracy:        \", dt_mean_accuracy)\n",
        "print(\"Mean Precision:       \", dt_mean_precision)\n",
        "print(\"Mean Recall:          \", dt_mean_recall)  # Sensitivity\n",
        "print(\"Mean Specificity:     \", dt_mean_specificity)\n",
        "print(\"Mean F1 Score:        \", dt_mean_f1)\n",
        "print(\"Mean ROC AUC:         \", dt_mean_roc_auc)\n",
        "print(\"Mean Kappa:           \", dt_mean_kappa)\n",
        "print(\"Root Mean Squared Error (RMSE):\", dt_rmse)\n",
        "print(\"Mean Absolute Error (MAE):     \", dt_mae)"
      ]
    },
    {
      "cell_type": "code",
      "execution_count": null,
      "metadata": {
        "id": "B-caFuwbBwp6"
      },
      "outputs": [],
      "source": [
        "# Initialize the LogisticRegression model\n",
        "lr_classifier = LogisticRegression(random_state=42, max_iter=1000)\n",
        "\n",
        "# Perform cross-validation\n",
        "cv_results_lr = cross_validate(lr_classifier, X_train_pt, y_train, cv=10, scoring=scoring)\n",
        "\n",
        "# Calculate mean and standard deviation for each metric\n",
        "lr_mean_accuracy = np.mean(cv_results_lr['test_accuracy'])\n",
        "lr_mean_precision = np.mean(cv_results_lr['test_precision'])\n",
        "lr_mean_recall = np.mean(cv_results_lr['test_recall'])  # Sensitivity\n",
        "lr_mean_specificity = np.mean(cv_results_lr['test_specificity'])\n",
        "lr_mean_f1 = np.mean(cv_results_lr['test_f1'])\n",
        "lr_mean_roc_auc = np.mean(cv_results_lr['test_roc_auc'])\n",
        "lr_mean_kappa = np.mean(cv_results_lr['test_kappa'])\n",
        "\n",
        "# Perform predictions using cross-validation\n",
        "y_pred_prob_lr = cross_val_predict(lr_classifier, X_train_pt, y_train, cv=10, method='predict_proba')\n",
        "\n",
        "# Calculate RMSE\n",
        "lr_rmse = np.sqrt(mean_squared_error(y_train, y_pred_prob_lr[:, 1]))\n",
        "\n",
        "# Calculate MAE\n",
        "lr_mae = mean_absolute_error(y_train, y_pred_prob_lr[:, 1])\n",
        "\n",
        "# Print the results\n",
        "print(\"Logistic Regression Results:\")\n",
        "print(\"Mean Accuracy:        \", lr_mean_accuracy)\n",
        "print(\"Mean Precision:       \", lr_mean_precision)\n",
        "print(\"Mean Recall:          \", lr_mean_recall)  # Sensitivity\n",
        "print(\"Mean Specificity:     \", lr_mean_specificity)\n",
        "print(\"Mean F1 Score:        \", lr_mean_f1)\n",
        "print(\"Mean ROC AUC:         \", lr_mean_roc_auc)\n",
        "print(\"Mean Kappa:           \", lr_mean_kappa)\n",
        "print(\"Root Mean Squared Error (RMSE):\", lr_rmse)\n",
        "print(\"Mean Absolute Error (MAE):     \", lr_mae)"
      ]
    },
    {
      "cell_type": "code",
      "execution_count": null,
      "metadata": {
        "id": "GQqqJgQBBx-C"
      },
      "outputs": [],
      "source": [
        "# Initialize the SVC model with probability enabled\n",
        "svc_classifier = SVC(probability=True, random_state=42)\n",
        "\n",
        "# Perform cross-validation\n",
        "cv_results_svc = cross_validate(svc_classifier, X_train_pt, y_train, cv=10, scoring=scoring)\n",
        "\n",
        "# Calculate mean and standard deviation for each metric\n",
        "svc_mean_accuracy = np.mean(cv_results_svc['test_accuracy'])\n",
        "svc_mean_precision = np.mean(cv_results_svc['test_precision'])\n",
        "svc_mean_recall = np.mean(cv_results_svc['test_recall'])  # Sensitivity\n",
        "svc_mean_specificity = np.mean(cv_results_svc['test_specificity'])\n",
        "svc_mean_f1 = np.mean(cv_results_svc['test_f1'])\n",
        "svc_mean_roc_auc = np.mean(cv_results_svc['test_roc_auc'])\n",
        "svc_mean_kappa = np.mean(cv_results_svc['test_kappa'])\n",
        "\n",
        "# Perform predictions using cross-validation\n",
        "y_pred_prob_svc = cross_val_predict(svc_classifier, X_train_pt, y_train, cv=10, method='predict_proba')\n",
        "\n",
        "# Calculate RMSE\n",
        "svc_rmse = np.sqrt(mean_squared_error(y_train, y_pred_prob_svc[:, 1]))\n",
        "\n",
        "# Calculate MAE\n",
        "svc_mae = mean_absolute_error(y_train, y_pred_prob_svc[:, 1])\n",
        "\n",
        "# Print the results\n",
        "print(\"Support Vector Classifier Results:\")\n",
        "print(\"Mean Accuracy:        \", svc_mean_accuracy)\n",
        "print(\"Mean Precision:       \", svc_mean_precision)\n",
        "print(\"Mean Recall:          \", svc_mean_recall)  # Sensitivity\n",
        "print(\"Mean Specificity:     \", svc_mean_specificity)\n",
        "print(\"Mean F1 Score:        \", svc_mean_f1)\n",
        "print(\"Mean ROC AUC:         \", svc_mean_roc_auc)\n",
        "print(\"Mean Kappa:           \", svc_mean_kappa)\n",
        "print(\"Root Mean Squared Error (RMSE):\", svc_rmse)\n",
        "print(\"Mean Absolute Error (MAE):     \", svc_mae)"
      ]
    },
    {
      "cell_type": "code",
      "execution_count": null,
      "metadata": {
        "id": "ju7HWMoEB8Xe"
      },
      "outputs": [],
      "source": [
        "# Initialize the GaussianNB model\n",
        "nb_classifier = GaussianNB()\n",
        "\n",
        "# Perform cross-validation\n",
        "cv_results_nb = cross_validate(nb_classifier, X_train_pt, y_train, cv=10, scoring=scoring)\n",
        "\n",
        "# Calculate mean and standard deviation for each metric\n",
        "nb_mean_accuracy = np.mean(cv_results_nb['test_accuracy'])\n",
        "nb_mean_precision = np.mean(cv_results_nb['test_precision'])\n",
        "nb_mean_recall = np.mean(cv_results_nb['test_recall'])  # Sensitivity\n",
        "nb_mean_specificity = np.mean(cv_results_nb['test_specificity'])\n",
        "nb_mean_f1 = np.mean(cv_results_nb['test_f1'])\n",
        "nb_mean_roc_auc = np.mean(cv_results_nb['test_roc_auc'])\n",
        "nb_mean_kappa = np.mean(cv_results_nb['test_kappa'])\n",
        "\n",
        "# Perform predictions using cross-validation\n",
        "y_pred_prob_nb = cross_val_predict(nb_classifier, X_train_pt, y_train, cv=10, method='predict_proba')\n",
        "\n",
        "# Calculate RMSE\n",
        "nb_rmse = np.sqrt(mean_squared_error(y_train, y_pred_prob_nb[:, 1]))\n",
        "\n",
        "# Calculate MAE\n",
        "nb_mae = mean_absolute_error(y_train, y_pred_prob_nb[:, 1])\n",
        "\n",
        "# Print the results\n",
        "print(\"Naive Bayes Classifier Results:\")\n",
        "print(\"Mean Accuracy:        \", nb_mean_accuracy)\n",
        "print(\"Mean Precision:       \", nb_mean_precision)\n",
        "print(\"Mean Recall:          \", nb_mean_recall)  # Sensitivity\n",
        "print(\"Mean Specificity:     \", nb_mean_specificity)\n",
        "print(\"Mean F1 Score:        \", nb_mean_f1)\n",
        "print(\"Mean ROC AUC:         \", nb_mean_roc_auc)\n",
        "print(\"Mean Kappa:           \", nb_mean_kappa)\n",
        "print(\"Root Mean Squared Error (RMSE):\", nb_rmse)\n",
        "print(\"Mean Absolute Error (MAE):     \", nb_mae)"
      ]
    },
    {
      "cell_type": "code",
      "execution_count": null,
      "metadata": {
        "id": "_Jq1fubICF4S"
      },
      "outputs": [],
      "source": [
        "# Initialize the KNeighborsClassifier\n",
        "knn_classifier = KNeighborsClassifier()\n",
        "\n",
        "# Perform cross-validation\n",
        "cv_results_knn = cross_validate(knn_classifier, X_train_pt, y_train, cv=10, scoring=scoring)\n",
        "\n",
        "# Calculate mean and standard deviation for each metric\n",
        "knn_mean_accuracy = np.mean(cv_results_knn['test_accuracy'])\n",
        "knn_mean_precision = np.mean(cv_results_knn['test_precision'])\n",
        "knn_mean_recall = np.mean(cv_results_knn['test_recall'])  # Sensitivity\n",
        "knn_mean_specificity = np.mean(cv_results_knn['test_specificity'])\n",
        "knn_mean_f1 = np.mean(cv_results_knn['test_f1'])\n",
        "knn_mean_roc_auc = np.mean(cv_results_knn['test_roc_auc'])\n",
        "knn_mean_kappa = np.mean(cv_results_knn['test_kappa'])\n",
        "\n",
        "# Perform predictions using cross-validation\n",
        "y_pred_prob_knn = cross_val_predict(knn_classifier, X_train_pt, y_train, cv=10, method='predict_proba')\n",
        "\n",
        "# Calculate RMSE\n",
        "knn_rmse = np.sqrt(mean_squared_error(y_train, y_pred_prob_knn[:, 1]))\n",
        "\n",
        "# Calculate MAE\n",
        "knn_mae = mean_absolute_error(y_train, y_pred_prob_knn[:, 1])\n",
        "\n",
        "# Print the results\n",
        "print(\"K-Nearest Neighbors Classifier Results:\")\n",
        "print(\"Mean Accuracy:        \", knn_mean_accuracy)\n",
        "print(\"Mean Precision:       \", knn_mean_precision)\n",
        "print(\"Mean Recall:          \", knn_mean_recall)  # Sensitivity\n",
        "print(\"Mean Specificity:     \", knn_mean_specificity)\n",
        "print(\"Mean F1 Score:        \", knn_mean_f1)\n",
        "print(\"Mean ROC AUC:         \", knn_mean_roc_auc)\n",
        "print(\"Mean Kappa:           \", knn_mean_kappa)\n",
        "print(\"Root Mean Squared Error (RMSE):\", knn_rmse)\n",
        "print(\"Mean Absolute Error (MAE):     \", knn_mae)\n"
      ]
    },
    {
      "cell_type": "code",
      "source": [
        "accuracy = [rf_mean_accuracy*100, dt_mean_accuracy*100, lr_mean_accuracy*100, svc_mean_accuracy*100, nb_mean_accuracy*100, knn_mean_accuracy*100]\n",
        "precision = [rf_mean_precision*100, dt_mean_precision*100, lr_mean_precision*100, svc_mean_precision*100, nb_mean_precision*100, knn_mean_precision*100]\n",
        "recall = [rf_mean_recall*100, dt_mean_recall*100, lr_mean_recall*100, svc_mean_recall*100, nb_mean_recall*100, knn_mean_recall*100]\n",
        "specificity = [rf_mean_specificity*100, dt_mean_specificity*100, lr_mean_specificity*100, svc_mean_specificity*100, nb_mean_specificity*100, knn_mean_specificity*100]\n",
        "f1 = [rf_mean_f1*100, dt_mean_f1*100, lr_mean_f1*100, svc_mean_f1*100, nb_mean_f1*100, knn_mean_f1*100]\n",
        "roc_auc = [rf_mean_roc_auc*100, dt_mean_roc_auc*100, lr_mean_roc_auc*100, svc_mean_roc_auc*100, nb_mean_roc_auc*100, knn_mean_roc_auc*100]\n",
        "kappa = [rf_mean_kappa*100, dt_mean_kappa*100, lr_mean_kappa*100, svc_mean_kappa*100, nb_mean_kappa*100, knn_mean_kappa*100]\n",
        "rmse = [rf_rmse, dt_rmse, lr_rmse, svc_rmse, nb_rmse, knn_rmse]\n",
        "mae = [rf_mae, dt_mae, lr_mae, svc_mae, nb_mae, knn_mae]"
      ],
      "metadata": {
        "id": "6jkOYygIAPhZ"
      },
      "execution_count": null,
      "outputs": []
    },
    {
      "cell_type": "code",
      "execution_count": null,
      "metadata": {
        "id": "cWUbjMOUcWaG"
      },
      "outputs": [],
      "source": [
        "categories1 = ['Random Forest', 'Decision Tree', 'Logistic Regression', 'Support Vector Machine', 'Naive Bayes', 'K-Nearest Neighbour']\n",
        "metrices = ['accuracy', 'precision', 'recall', 'specificity', 'f1', 'roc_auc', 'kappa', 'rmse', 'mae']\n",
        "categories = ['RF', 'DT', 'Log_Reg', 'SVM', 'NB', 'KNN']"
      ]
    },
    {
      "cell_type": "code",
      "execution_count": null,
      "metadata": {
        "id": "TAHlvd1QZOgh"
      },
      "outputs": [],
      "source": [
        "# Accuracy\n",
        "values = accuracy\n",
        "\n",
        "# Create a bar plot\n",
        "plt.bar(categories, values, color='skyblue')\n",
        "\n",
        "# Add title and labels\n",
        "plt.title('Accuracy Bar Plot')\n",
        "plt.xlabel('Categories')\n",
        "plt.ylabel('Values')\n",
        "\n",
        "# Set y-axis limits\n",
        "plt.ylim(70, 100)\n",
        "\n",
        "# Display the plot\n",
        "plt.show()"
      ]
    },
    {
      "cell_type": "code",
      "execution_count": null,
      "metadata": {
        "id": "ycz7UFDaawgG"
      },
      "outputs": [],
      "source": [
        "# Accuracy\n",
        "values = precision\n",
        "\n",
        "# Create a bar plot\n",
        "plt.bar(categories, values, color='skyblue')\n",
        "\n",
        "# Add title and labels\n",
        "plt.title('Precision Bar Plot')\n",
        "plt.xlabel('Categories')\n",
        "plt.ylabel('Values')\n",
        "\n",
        "# Set y-axis limits\n",
        "plt.ylim(70, 100)\n",
        "\n",
        "# Display the plot\n",
        "plt.show()"
      ]
    },
    {
      "cell_type": "code",
      "execution_count": null,
      "metadata": {
        "id": "-izOfIy0corc"
      },
      "outputs": [],
      "source": [
        "# Accuracy\n",
        "values = recall\n",
        "\n",
        "# Create a bar plot\n",
        "plt.bar(categories, values, color='skyblue')\n",
        "\n",
        "# Add title and labels\n",
        "plt.title('Recall(Sensitivity) Bar Plot')\n",
        "plt.xlabel('Categories')\n",
        "plt.ylabel('Values')\n",
        "\n",
        "# Set y-axis limits\n",
        "plt.ylim(70, 100)\n",
        "\n",
        "# Display the plot\n",
        "plt.show()"
      ]
    },
    {
      "cell_type": "code",
      "execution_count": null,
      "metadata": {
        "id": "y9mrNe8lE0mr"
      },
      "outputs": [],
      "source": [
        "# Accuracy\n",
        "values = rmse\n",
        "\n",
        "# Create a bar plot\n",
        "plt.bar(categories, values, color='skyblue')\n",
        "\n",
        "# Add title and labels\n",
        "plt.title('RMSE Bar Plot')\n",
        "plt.xlabel('Categories')\n",
        "plt.ylabel('Values')\n",
        "\n",
        "# Display the plot\n",
        "plt.show()"
      ]
    },
    {
      "cell_type": "code",
      "execution_count": null,
      "metadata": {
        "id": "m8O8mtR-E0jG"
      },
      "outputs": [],
      "source": [
        "# Accuracy\n",
        "values = mae\n",
        "\n",
        "# Create a bar plot\n",
        "plt.bar(categories, values, color='skyblue')\n",
        "\n",
        "# Add title and labels\n",
        "plt.title('MAE Bar Plot')\n",
        "plt.xlabel('Categories')\n",
        "plt.ylabel('Values')\n",
        "\n",
        "# Display the plot\n",
        "plt.show()"
      ]
    },
    {
      "cell_type": "code",
      "execution_count": null,
      "metadata": {
        "id": "gXcysrWfcu1t"
      },
      "outputs": [],
      "source": [
        "# Accuracy\n",
        "values = specificity\n",
        "\n",
        "# Create a bar plot\n",
        "plt.bar(categories, values, color='skyblue')\n",
        "\n",
        "# Add title and labels\n",
        "plt.title('Specificity Bar Plot')\n",
        "plt.xlabel('Categories')\n",
        "plt.ylabel('Values')\n",
        "\n",
        "# Set y-axis limits\n",
        "plt.ylim(70, 100)\n",
        "\n",
        "# Display the plot\n",
        "plt.show()"
      ]
    },
    {
      "cell_type": "code",
      "execution_count": null,
      "metadata": {
        "id": "qkHWa6V4cx27"
      },
      "outputs": [],
      "source": [
        "# Accuracy\n",
        "values = f1\n",
        "\n",
        "# Create a bar plot\n",
        "plt.bar(categories, values, color='skyblue')\n",
        "\n",
        "# Add title and labels\n",
        "plt.title('F1 score Bar Plot')\n",
        "plt.xlabel('Categories')\n",
        "plt.ylabel('Values')\n",
        "\n",
        "# Set y-axis limits\n",
        "plt.ylim(70, 100)\n",
        "\n",
        "# Display the plot\n",
        "plt.show()"
      ]
    },
    {
      "cell_type": "code",
      "execution_count": null,
      "metadata": {
        "id": "KLHGkTANc8bO"
      },
      "outputs": [],
      "source": [
        "# Accuracy\n",
        "values = roc_auc\n",
        "\n",
        "# Create a bar plot\n",
        "plt.bar(categories, values, color='skyblue')\n",
        "\n",
        "# Add title and labels\n",
        "plt.title('ROC-AUC Bar Plot')\n",
        "plt.xlabel('Categories')\n",
        "plt.ylabel('Values')\n",
        "\n",
        "# Set y-axis limits\n",
        "plt.ylim(70, 100)\n",
        "\n",
        "# Display the plot\n",
        "plt.show()"
      ]
    },
    {
      "cell_type": "code",
      "execution_count": null,
      "metadata": {
        "id": "xXSABmxrdIe2"
      },
      "outputs": [],
      "source": [
        "# Accuracy\n",
        "values = kappa\n",
        "\n",
        "# Create a bar plot\n",
        "plt.bar(categories, values, color='skyblue')\n",
        "\n",
        "# Add title and labels\n",
        "plt.title('Kappa Bar Plot')\n",
        "plt.xlabel('Categories')\n",
        "plt.ylabel('Values')\n",
        "\n",
        "# Set y-axis limits\n",
        "plt.ylim(70, 100)\n",
        "\n",
        "# Display the plot\n",
        "plt.show()"
      ]
    }
  ],
  "metadata": {
    "colab": {
      "provenance": []
    },
    "kernelspec": {
      "display_name": "Python 3",
      "name": "python3"
    },
    "language_info": {
      "name": "python"
    }
  },
  "nbformat": 4,
  "nbformat_minor": 0
}